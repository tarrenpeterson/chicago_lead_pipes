{
 "cells": [
  {
   "cell_type": "code",
   "execution_count": 8,
   "id": "a8fa50a5-b295-4797-b323-e15633891130",
   "metadata": {},
   "outputs": [],
   "source": [
    "import pandas as pd\n",
    "from sklearn.model_selection import train_test_split\n",
    "from sklearn.preprocessing import StandardScaler\n",
    "from sklearn.model_selection import GridSearchCV\n",
    "from sklearn.svm import LinearSVC\n",
    "import matplotlib.pyplot as plt"
   ]
  },
  {
   "cell_type": "code",
   "execution_count": 9,
   "id": "e9a97300-d367-4788-8644-d8414139104d",
   "metadata": {},
   "outputs": [],
   "source": [
    "df = pd.read_csv('data/final_df.csv', index_col=0)\n",
    "df_high = df.drop('threshold_medium', axis=1)\n",
    "df_med = df.drop('threshold_high', axis=1)"
   ]
  },
  {
   "cell_type": "code",
   "execution_count": 10,
   "id": "718f4a43-c2ad-4c04-9404-c4332d006def",
   "metadata": {},
   "outputs": [],
   "source": [
    "# Testing High Threshold\n",
    "df_train, df_test = train_test_split(df_high, test_size=0.2, random_state=0)\n",
    "features = list(df_train.columns[:-1])\n",
    "scaler = StandardScaler()\n",
    "X_train_norm = scaler.fit_transform(df_train[features])\n",
    "X_test_norm = scaler.transform(df_test[features])\n",
    "\n",
    "y_train = df_train['threshold_high']\n",
    "y_test = df_test['threshold_high']"
   ]
  },
  {
   "cell_type": "code",
   "execution_count": 11,
   "id": "c5f629b6-a5c9-4d8f-a0b9-5f50e49fe56a",
   "metadata": {},
   "outputs": [
    {
     "data": {
      "text/html": [
       "<div>\n",
       "<style scoped>\n",
       "    .dataframe tbody tr th:only-of-type {\n",
       "        vertical-align: middle;\n",
       "    }\n",
       "\n",
       "    .dataframe tbody tr th {\n",
       "        vertical-align: top;\n",
       "    }\n",
       "\n",
       "    .dataframe thead th {\n",
       "        text-align: right;\n",
       "    }\n",
       "</style>\n",
       "<table border=\"1\" class=\"dataframe\">\n",
       "  <thead>\n",
       "    <tr style=\"text-align: right;\">\n",
       "      <th></th>\n",
       "      <th>params</th>\n",
       "      <th>mean_test_accuracy</th>\n",
       "      <th>rank_test_accuracy</th>\n",
       "      <th>mean_test_precision</th>\n",
       "      <th>rank_test_precision</th>\n",
       "      <th>mean_test_recall</th>\n",
       "      <th>rank_test_recall</th>\n",
       "    </tr>\n",
       "  </thead>\n",
       "  <tbody>\n",
       "    <tr>\n",
       "      <th>0</th>\n",
       "      <td>{'C': 0.01}</td>\n",
       "      <td>0.679050</td>\n",
       "      <td>1</td>\n",
       "      <td>0.427399</td>\n",
       "      <td>1</td>\n",
       "      <td>0.650370</td>\n",
       "      <td>1</td>\n",
       "    </tr>\n",
       "    <tr>\n",
       "      <th>1</th>\n",
       "      <td>{'C': 0.1}</td>\n",
       "      <td>0.672964</td>\n",
       "      <td>5</td>\n",
       "      <td>0.420612</td>\n",
       "      <td>5</td>\n",
       "      <td>0.648097</td>\n",
       "      <td>2</td>\n",
       "    </tr>\n",
       "    <tr>\n",
       "      <th>2</th>\n",
       "      <td>{'C': 1}</td>\n",
       "      <td>0.673574</td>\n",
       "      <td>2</td>\n",
       "      <td>0.420696</td>\n",
       "      <td>2</td>\n",
       "      <td>0.643446</td>\n",
       "      <td>3</td>\n",
       "    </tr>\n",
       "    <tr>\n",
       "      <th>3</th>\n",
       "      <td>{'C': 10}</td>\n",
       "      <td>0.673574</td>\n",
       "      <td>2</td>\n",
       "      <td>0.420696</td>\n",
       "      <td>2</td>\n",
       "      <td>0.643446</td>\n",
       "      <td>3</td>\n",
       "    </tr>\n",
       "    <tr>\n",
       "      <th>4</th>\n",
       "      <td>{'C': 100}</td>\n",
       "      <td>0.673574</td>\n",
       "      <td>2</td>\n",
       "      <td>0.420696</td>\n",
       "      <td>2</td>\n",
       "      <td>0.643446</td>\n",
       "      <td>3</td>\n",
       "    </tr>\n",
       "  </tbody>\n",
       "</table>\n",
       "</div>"
      ],
      "text/plain": [
       "        params  mean_test_accuracy  rank_test_accuracy  mean_test_precision  \\\n",
       "0  {'C': 0.01}            0.679050                   1             0.427399   \n",
       "1   {'C': 0.1}            0.672964                   5             0.420612   \n",
       "2     {'C': 1}            0.673574                   2             0.420696   \n",
       "3    {'C': 10}            0.673574                   2             0.420696   \n",
       "4   {'C': 100}            0.673574                   2             0.420696   \n",
       "\n",
       "   rank_test_precision  mean_test_recall  rank_test_recall  \n",
       "0                    1          0.650370                 1  \n",
       "1                    5          0.648097                 2  \n",
       "2                    2          0.643446                 3  \n",
       "3                    2          0.643446                 3  \n",
       "4                    2          0.643446                 3  "
      ]
     },
     "execution_count": 11,
     "metadata": {},
     "output_type": "execute_result"
    }
   ],
   "source": [
    "hparams = {'C': [0.01, 0.1, 1, 10, 100]}\n",
    "k=10\n",
    "grid = GridSearchCV(estimator=LinearSVC(random_state=0, max_iter=10000, dual=False, \n",
    "                                        class_weight='balanced'),\n",
    "                    param_grid=hparams, cv=k,\n",
    "                    return_train_score=True,\n",
    "                    scoring=['accuracy', 'precision', 'recall'],\n",
    "                    refit='recall')\n",
    "\n",
    "grid.fit(X_train_norm, y_train)\n",
    "y_pred = grid.best_estimator_.predict(X_test_norm)\n",
    "results = pd.DataFrame(grid.cv_results_)\n",
    "\n",
    "cols = ['params', 'mean_test_accuracy', 'rank_test_accuracy', 'mean_test_precision',\n",
    "        'rank_test_precision', 'mean_test_recall', 'rank_test_recall']\n",
    "results[cols].sort_values(by='rank_test_recall', ascending=True)"
   ]
  },
  {
   "cell_type": "code",
   "execution_count": 12,
   "id": "b6c221c3-619e-4e4c-9b6d-0aceca6f744b",
   "metadata": {},
   "outputs": [
    {
     "data": {
      "text/plain": [
       "{'C': 0.01}"
      ]
     },
     "execution_count": 12,
     "metadata": {},
     "output_type": "execute_result"
    }
   ],
   "source": [
    "grid.best_params_"
   ]
  },
  {
   "cell_type": "code",
   "execution_count": 13,
   "id": "c00b5ed1-4b04-4255-b16f-36103dcc8cc8",
   "metadata": {},
   "outputs": [
    {
     "data": {
      "text/html": [
       "<div>\n",
       "<style scoped>\n",
       "    .dataframe tbody tr th:only-of-type {\n",
       "        vertical-align: middle;\n",
       "    }\n",
       "\n",
       "    .dataframe tbody tr th {\n",
       "        vertical-align: top;\n",
       "    }\n",
       "\n",
       "    .dataframe thead th {\n",
       "        text-align: right;\n",
       "    }\n",
       "</style>\n",
       "<table border=\"1\" class=\"dataframe\">\n",
       "  <thead>\n",
       "    <tr style=\"text-align: right;\">\n",
       "      <th></th>\n",
       "      <th>params</th>\n",
       "      <th>mean_test_accuracy</th>\n",
       "      <th>rank_test_accuracy</th>\n",
       "      <th>mean_test_precision</th>\n",
       "      <th>rank_test_precision</th>\n",
       "      <th>mean_test_recall</th>\n",
       "      <th>rank_test_recall</th>\n",
       "    </tr>\n",
       "  </thead>\n",
       "  <tbody>\n",
       "    <tr>\n",
       "      <th>2</th>\n",
       "      <td>{'C': 1}</td>\n",
       "      <td>0.736316</td>\n",
       "      <td>1</td>\n",
       "      <td>0.898759</td>\n",
       "      <td>2</td>\n",
       "      <td>0.728342</td>\n",
       "      <td>1</td>\n",
       "    </tr>\n",
       "    <tr>\n",
       "      <th>3</th>\n",
       "      <td>{'C': 10}</td>\n",
       "      <td>0.735706</td>\n",
       "      <td>2</td>\n",
       "      <td>0.897926</td>\n",
       "      <td>4</td>\n",
       "      <td>0.728342</td>\n",
       "      <td>1</td>\n",
       "    </tr>\n",
       "    <tr>\n",
       "      <th>4</th>\n",
       "      <td>{'C': 100}</td>\n",
       "      <td>0.734494</td>\n",
       "      <td>3</td>\n",
       "      <td>0.896775</td>\n",
       "      <td>5</td>\n",
       "      <td>0.727536</td>\n",
       "      <td>3</td>\n",
       "    </tr>\n",
       "    <tr>\n",
       "      <th>1</th>\n",
       "      <td>{'C': 0.1}</td>\n",
       "      <td>0.734486</td>\n",
       "      <td>4</td>\n",
       "      <td>0.898413</td>\n",
       "      <td>3</td>\n",
       "      <td>0.725883</td>\n",
       "      <td>4</td>\n",
       "    </tr>\n",
       "    <tr>\n",
       "      <th>0</th>\n",
       "      <td>{'C': 0.01}</td>\n",
       "      <td>0.732044</td>\n",
       "      <td>5</td>\n",
       "      <td>0.903632</td>\n",
       "      <td>1</td>\n",
       "      <td>0.716873</td>\n",
       "      <td>5</td>\n",
       "    </tr>\n",
       "  </tbody>\n",
       "</table>\n",
       "</div>"
      ],
      "text/plain": [
       "        params  mean_test_accuracy  rank_test_accuracy  mean_test_precision  \\\n",
       "2     {'C': 1}            0.736316                   1             0.898759   \n",
       "3    {'C': 10}            0.735706                   2             0.897926   \n",
       "4   {'C': 100}            0.734494                   3             0.896775   \n",
       "1   {'C': 0.1}            0.734486                   4             0.898413   \n",
       "0  {'C': 0.01}            0.732044                   5             0.903632   \n",
       "\n",
       "   rank_test_precision  mean_test_recall  rank_test_recall  \n",
       "2                    2          0.728342                 1  \n",
       "3                    4          0.728342                 1  \n",
       "4                    5          0.727536                 3  \n",
       "1                    3          0.725883                 4  \n",
       "0                    1          0.716873                 5  "
      ]
     },
     "execution_count": 13,
     "metadata": {},
     "output_type": "execute_result"
    }
   ],
   "source": [
    "# Testing Medium Threshold\n",
    "df_train, df_test = train_test_split(df_med, test_size=0.2, random_state=0)\n",
    "scaler = StandardScaler()\n",
    "X_train_norm = scaler.fit_transform(df_train[features])\n",
    "X_test_norm = scaler.transform(df_test[features])\n",
    "\n",
    "y_train = df_train['threshold_medium']\n",
    "y_test = df_test['threshold_medium']\n",
    "\n",
    "hparams = {'C': [0.01, 0.1, 1, 10, 100]}\n",
    "\n",
    "grid = GridSearchCV(estimator=LinearSVC(random_state=0, max_iter=10000, dual=False, \n",
    "                                        class_weight='balanced'),\n",
    "                    param_grid=hparams, cv=k,\n",
    "                    return_train_score=True,\n",
    "                    scoring=['accuracy', 'precision', 'recall'],\n",
    "                    refit='recall')\n",
    "\n",
    "grid.fit(X_train_norm, y_train)\n",
    "y_pred = grid.best_estimator_.predict(X_test_norm)\n",
    "\n",
    "results = pd.DataFrame(grid.cv_results_)\n",
    "\n",
    "cols = ['params', 'mean_test_accuracy', 'rank_test_accuracy', 'mean_test_precision',\n",
    "        'rank_test_precision', 'mean_test_recall', 'rank_test_recall']\n",
    "results[cols].sort_values(by='rank_test_recall', ascending=True)"
   ]
  },
  {
   "cell_type": "code",
   "execution_count": 15,
   "id": "205cd25e-86b6-4b16-aa56-723acd029222",
   "metadata": {},
   "outputs": [
    {
     "data": {
      "text/plain": [
       "{'C': 1}"
      ]
     },
     "execution_count": 15,
     "metadata": {},
     "output_type": "execute_result"
    }
   ],
   "source": [
    "grid.best_params_ "
   ]
  },
  {
   "cell_type": "code",
   "execution_count": 14,
   "id": "41229601-d3a8-4825-8353-f3f5d4152665",
   "metadata": {},
   "outputs": [
    {
     "data": {
      "text/plain": [
       "<AxesSubplot:>"
      ]
     },
     "execution_count": 14,
     "metadata": {},
     "output_type": "execute_result"
    },
    {
     "data": {
      "image/png": "[encoded data removed]",
      "text/plain": [
       "<Figure size 432x288 with 1 Axes>"
      ]
     },
     "metadata": {
      "needs_background": "light"
     },
     "output_type": "display_data"
    }
   ],
   "source": [
    "pd.Series(abs(grid.best_estimator_.coef_[0]), index=features).nlargest(10).plot(kind='barh')"
   ]
  },
  {
   "cell_type": "code",
   "execution_count": 85,
   "id": "ac46adb1-c6f1-4825-bc1f-b241f27ea156",
   "metadata": {},
   "outputs": [
    {
     "data": {
      "image/png": "[encoded data removed]",
      "text/plain": [
       "<Figure size 432x288 with 2 Axes>"
      ]
     },
     "metadata": {
      "needs_background": "light"
     },
     "output_type": "display_data"
    },
    {
     "name": "stdout",
     "output_type": "stream",
     "text": [
      "\n",
      "Test Accuracy: 0.7421\n",
      "Test Precision: 0.8697\n",
      "Test Recall: 0.7592\n",
      "\n"
     ]
    }
   ],
   "source": [
    "from sklearn.metrics import plot_confusion_matrix, accuracy_score, precision_score, recall_score\n",
    "\n",
    "cm = plot_confusion_matrix(\n",
    "    estimator=grid.best_estimator_, \n",
    "    X=X_test_norm, y_true=y_test, labels=[1,0], \n",
    "    display_labels=['High Lead Results', 'No High Lead Results'])\n",
    "plt.grid(linestyle='')\n",
    "plt.title('Confusion Matrix for Predicting Block Groups with Lead Results 5.0+ ppb\\n' + \n",
    "         '(on testing data, among block groups with lead test results)')\n",
    "plt.show()\n",
    "\n",
    "accuracy = accuracy_score(y_true=y_test, y_pred=y_pred)\n",
    "precision = precision_score(y_true=y_test, y_pred=y_pred)\n",
    "recall = recall_score(y_true=y_test, y_pred=y_pred)\n",
    "\n",
    "print(f'''\n",
    "Test Accuracy: {round(accuracy, 4)}\n",
    "Test Precision: {round(precision, 4)}\n",
    "Test Recall: {round(recall, 4)}\n",
    "''')"
   ]
  },
  {
   "cell_type": "code",
   "execution_count": null,
   "id": "d1b7c128-fa8f-4e75-a048-35ba87ef9d66",
   "metadata": {},
   "outputs": [],
   "source": []
  }
 ],
 "metadata": {
  "kernelspec": {
   "display_name": "Python 3",
   "language": "python",
   "name": "python3"
  },
  "language_info": {
   "codemirror_mode": {
    "name": "ipython",
    "version": 3
   },
   "file_extension": ".py",
   "mimetype": "text/x-python",
   "name": "python",
   "nbconvert_exporter": "python",
   "pygments_lexer": "ipython3",
   "version": "3.9.5"
  }
 },
 "nbformat": 4,
 "nbformat_minor": 5
}
