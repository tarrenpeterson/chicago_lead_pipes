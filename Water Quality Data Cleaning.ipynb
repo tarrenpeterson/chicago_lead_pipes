{
 "cells": [
  {
   "cell_type": "markdown",
   "id": "4006b921-d2d1-465a-b937-8fe85e0b7f71",
   "metadata": {},
   "source": [
    "# Water Quality: Data Wrangle"
   ]
  },
  {
   "cell_type": "code",
   "execution_count": 54,
   "id": "b7019c30-6d0c-47fa-ab0c-59105c49ad13",
   "metadata": {},
   "outputs": [],
   "source": [
    "import pandas as pd\n",
    "import geopandas as gpd\n",
    "import numpy as np\n",
    "import geopy\n",
    "import re\n",
    "import matplotlib.pyplot as plt\n",
    "from string import punctuation\n",
    "from geopy.extra.rate_limiter import RateLimiter\n",
    "from geopy.geocoders import Nominatim"
   ]
  },
  {
   "cell_type": "code",
   "execution_count": 55,
   "id": "92ef3800-c477-4dbc-be42-220d1fb56bf4",
   "metadata": {},
   "outputs": [
    {
     "data": {
      "text/html": [
       "<div>\n",
       "<style scoped>\n",
       "    .dataframe tbody tr th:only-of-type {\n",
       "        vertical-align: middle;\n",
       "    }\n",
       "\n",
       "    .dataframe tbody tr th {\n",
       "        vertical-align: top;\n",
       "    }\n",
       "\n",
       "    .dataframe thead th {\n",
       "        text-align: right;\n",
       "    }\n",
       "</style>\n",
       "<table border=\"1\" class=\"dataframe\">\n",
       "  <thead>\n",
       "    <tr style=\"text-align: right;\">\n",
       "      <th></th>\n",
       "      <th>Date Sampled</th>\n",
       "      <th>Address</th>\n",
       "      <th>1st Draw</th>\n",
       "      <th>2-3 Minute</th>\n",
       "      <th>5 Minute</th>\n",
       "    </tr>\n",
       "  </thead>\n",
       "  <tbody>\n",
       "    <tr>\n",
       "      <th>0</th>\n",
       "      <td>2020-01-26 07:42:00</td>\n",
       "      <td>X N Bishop St</td>\n",
       "      <td>&lt;1.0</td>\n",
       "      <td>&lt;1.0</td>\n",
       "      <td>&lt;1.0</td>\n",
       "    </tr>\n",
       "    <tr>\n",
       "      <th>1</th>\n",
       "      <td>2016-11-08 05:30:00</td>\n",
       "      <td>XX N Lasalle St</td>\n",
       "      <td>&lt;1</td>\n",
       "      <td>&lt;1</td>\n",
       "      <td>&lt;1</td>\n",
       "    </tr>\n",
       "    <tr>\n",
       "      <th>2</th>\n",
       "      <td>2019-11-07 06:18:00</td>\n",
       "      <td>X W Brayton St</td>\n",
       "      <td>&lt;1.0</td>\n",
       "      <td>6.9</td>\n",
       "      <td>&lt;1.0</td>\n",
       "    </tr>\n",
       "  </tbody>\n",
       "</table>\n",
       "</div>"
      ],
      "text/plain": [
       "         Date Sampled          Address 1st Draw 2-3 Minute 5 Minute\n",
       "0 2020-01-26 07:42:00    X N Bishop St     <1.0       <1.0     <1.0\n",
       "1 2016-11-08 05:30:00  XX N Lasalle St       <1         <1       <1\n",
       "2 2019-11-07 06:18:00   X W Brayton St     <1.0        6.9     <1.0"
      ]
     },
     "execution_count": 55,
     "metadata": {},
     "output_type": "execute_result"
    }
   ],
   "source": [
    "wdf = pd.read_excel('data/water_qual.xlsx', header=2, sheet_name='Initial', \n",
    "                    usecols=[0, 1, 2, 3, 4], skipfooter=6, \n",
    "                    dtype={'1st Draw':\"str\", '2-3 Minute': 'str', '5 Minute': 'str'})\n",
    "wdf.head(3)"
   ]
  },
  {
   "cell_type": "code",
   "execution_count": 56,
   "id": "42c60afe-ddeb-4797-be20-cf8a22a4575e",
   "metadata": {},
   "outputs": [
    {
     "name": "stdout",
     "output_type": "stream",
     "text": [
      "Date ranges for data are: 2016-01-27 to 2021-01-07\n",
      "There are 23,882 observations in the dataset.\n"
     ]
    }
   ],
   "source": [
    "# Data Exploration and Cleaning\n",
    "print(f'Date ranges for data are: {wdf[\"Date Sampled\"].min().date()} to {wdf[\"Date Sampled\"].max().date()}')\n",
    "print(f'There are {wdf.shape[0]:,} observations in the dataset.')\n",
    "\n",
    "# Replace any \"<1.0\" or similar with 1.0\n",
    "wdf.replace(to_replace=\"^<\\s?[01]\\.?.*\", value=\"1.0\", inplace=True, regex=True)\n",
    "\n",
    "wdf.dropna(subset=[\"1st Draw\"], inplace=True)\n",
    "\n",
    "# Remove observations that merely state a residence has been referred to addl. testing\n",
    "wdf.drop(wdf[wdf['1st Draw'].str.contains(\"^\\D\", regex=True)].index.values, inplace=True)\n",
    "\n",
    "# Convert to float\n",
    "wdf.loc[:, '1st Draw': '5 Minute'] = (wdf.loc[:,'1st Draw':'5 Minute'].astype('float64'))\n",
    "\n",
    "# Replace any observations that were float <1.0 with 1.0. \n",
    "wdf.loc[:,'1st Draw':'5 Minute'] = (wdf.loc[:,'1st Draw':'5 Minute']\n",
    "    .mask(wdf.loc[:,'1st Draw':'5 Minute'] < 1, other=1.0))"
   ]
  },
  {
   "cell_type": "code",
   "execution_count": 57,
   "id": "5648cd3d-e635-4fa0-b33b-8c9f18d4176d",
   "metadata": {},
   "outputs": [
    {
     "name": "stdout",
     "output_type": "stream",
     "text": [
      "Summary statistics for the 1st sample drawn in initial testing:\n",
      "count    22668.000000\n",
      "mean         3.640967\n",
      "std         13.724032\n",
      "min          1.000000\n",
      "25%          1.000000\n",
      "50%          2.000000\n",
      "75%          3.800000\n",
      "max        730.000000\n",
      "Name: 1st Draw, dtype: float64\n",
      "\n",
      "Summary statistics for the 2nd sample (2-3 Minute Mark) drawn in initial testing:\n",
      "count    22667.000000\n",
      "mean         4.112260\n",
      "std          6.835936\n",
      "min          1.000000\n",
      "25%          1.000000\n",
      "50%          2.200000\n",
      "75%          5.400000\n",
      "max        460.000000\n",
      "Name: 2-3 Minute, dtype: float64\n",
      "\n",
      "Summary statistics for the final sample (5 Minute Mark) drawn in initial testing:\n",
      "count    22667.000000\n",
      "mean         2.267388\n",
      "std          3.051567\n",
      "min          1.000000\n",
      "25%          1.000000\n",
      "50%          1.200000\n",
      "75%          2.500000\n",
      "max        240.000000\n",
      "Name: 5 Minute, dtype: float64\n",
      "\n",
      "A total of 1,007 (4.44%) observations had at least one \n",
      "water sample test containing 15.0 or more lead parts per billion (ppb) in initial testing.\n"
     ]
    }
   ],
   "source": [
    "print('Summary statistics for the 1st sample drawn in initial testing:')\n",
    "print(wdf['1st Draw'].describe())\n",
    "print()\n",
    "print('Summary statistics for the 2nd sample (2-3 Minute Mark) drawn in initial testing:')\n",
    "print(wdf['2-3 Minute'].describe())\n",
    "print()\n",
    "print('Summary statistics for the final sample (5 Minute Mark) drawn in initial testing:')\n",
    "print(wdf['5 Minute'].describe())\n",
    "\n",
    "wdf[\"Threshold\"] = (wdf.loc[:,'1st Draw':'5 Minute'] >= 15).any(axis=1)\n",
    "print()\n",
    "print(f'A total of {wdf[\"Threshold\"].sum():,} (' + \n",
    "      f'{round(wdf[\"Threshold\"].sum() / wdf.shape[0] * 100, 2)}' + \n",
    "      f'%) observations had at least one ')\n",
    "print(f'water sample test containing 15.0 or more lead parts per billion (ppb) in initial testing.')"
   ]
  },
  {
   "cell_type": "code",
   "execution_count": 58,
   "id": "1fc4e718-106d-4383-8943-ddf53d225257",
   "metadata": {},
   "outputs": [],
   "source": [
    "# Cleaning addresses for geocoding\n",
    "wdf.Address.replace({'^XX\\s': '10 ', '^X\\s': '1 ', \n",
    "                     'XX':'00', '[0-9]X':'0'}, regex=True, inplace=True)\n",
    "wdf.Address = wdf.Address.str.strip(punctuation)\n",
    "wdf.Address += ', Chicago, IL, USA'"
   ]
  },
  {
   "cell_type": "code",
   "execution_count": 59,
   "id": "191a321c-c571-4b09-8a95-ee8f809f057e",
   "metadata": {},
   "outputs": [],
   "source": [
    "# Geocoding Addresses\n",
    "\n",
    "# Geocoding the +20,000 observations takes substantially long. Please load\n",
    "# the data/wdf_points.csv to continue working with the geocoded dataset.\n",
    "\n",
    "# locator = Nominatim(user_agent=\"myGeocoder\")\n",
    "# location = locator.geocode(\"Chicago, IL, USA\")\n",
    "\n",
    "# geocode = RateLimiter(locator.geocode, min_delay_seconds=1)\n",
    "# wdf['location'] = wdf['Address'].apply(geocode)\n",
    "# wdf['point'] = wdf['location'].apply(lambda loc: tuple(loc.point) if loc else None)\n",
    "# wdf[['latitude', 'longitude', 'altitude']] = pd.DataFrame(wdf['point'].tolist(), index=wdf.index)\n",
    "# wdf.drop('altitude', 'point', axis=1, inplace=True)\n",
    "\n",
    "# wdf.to_csv('data/wdf_points.csv')"
   ]
  },
  {
   "cell_type": "code",
   "execution_count": 60,
   "id": "6851d625-8bfc-4921-af6f-d414ce33b556",
   "metadata": {},
   "outputs": [],
   "source": [
    "# Converting to geopandas df \n",
    "wdf = pd.read_csv('data/wdf_points.csv', index_col=[0])\n",
    "\n",
    "# Manually cleaning some observations\n",
    "wdf.loc[wdf[\"Address\"] == \"1800 W Chicago Ave , Chicago, IL, USA\", [\"longitude\"]] = -87.67228848673774\n",
    "wdf.loc[wdf[\"Address\"] == \"1800 W Chicago Ave , Chicago, IL, USA\", [\"latitude\"]] = 41.896391737686976\n",
    "wdf.loc[wdf[\"Address\"] == \"1100 W 17th St, Chicago, IL, USA\", [\"longitude\"]] = -87.65310150616693\n",
    "wdf.loc[wdf[\"Address\"] == \"1100 W 17th St, Chicago, IL, USA\", [\"latitude\"]] = 41.862919274995626\n",
    "wdf.loc[wdf[\"Address\"] == \"1600 N 18th St , Chicago, IL, USA\", [\"longitude\"]] = -87.85520742698857\n",
    "wdf.loc[wdf[\"Address\"] == \"1600 N 18th St , Chicago, IL, USA\", [\"latitude\"]] = 41.906865692166896\n",
    "wdf.loc[wdf[\"Address\"] == \"2400 W Harrison Ave, Chicago, IL, USA\", [\"longitude\"]] = -87.68634655975251\n",
    "wdf.loc[wdf[\"Address\"] == \"2400 W Harrison Ave, Chicago, IL, USA\", [\"latitude\"]] = 41.87425757200666\n",
    "wdf.loc[wdf[\"Address\"] == \"800 N Elizabeth St , Chicago, IL, USA\", [\"longitude\"]] = -87.65992222906638\n",
    "wdf.loc[wdf[\"Address\"] == \"800 N Elizabeth St , Chicago, IL, USA\", [\"latitude\"]] = 41.89661964867207"
   ]
  },
  {
   "cell_type": "code",
   "execution_count": 62,
   "id": "14b84dcf-76f8-49ec-a838-18764a3037f5",
   "metadata": {},
   "outputs": [],
   "source": [
    "wdf[\"avg_reading\"] = wdf[[\"1st Draw\", \"2-3 Minute\", '5 Minute']].mean(axis=1)\n",
    "wdf[\"max_reading\"] = wdf[[\"1st Draw\", \"2-3 Minute\", '5 Minute']].max(axis=1)\n",
    "wdf[\"Threshold\"] = np.where(wdf['max_reading'] >= 15, 1, 0)"
   ]
  },
  {
   "cell_type": "code",
   "execution_count": 63,
   "id": "b2816c32-cfb0-4d5d-aa77-42b100039912",
   "metadata": {},
   "outputs": [],
   "source": [
    "wdf_g = gpd.GeoDataFrame(\n",
    "    wdf, geometry=gpd.points_from_xy(wdf.longitude, wdf.latitude))"
   ]
  },
  {
   "cell_type": "code",
   "execution_count": 64,
   "id": "e6187526-bd35-443c-9499-c9c0d5a82c7e",
   "metadata": {},
   "outputs": [
    {
     "name": "stderr",
     "output_type": "stream",
     "text": [
      "<ipython-input-64-591f77c9e2a9>:1: UserWarning: Column names longer than 10 characters will be truncated when saved to ESRI Shapefile.\n",
      "  wdf_g.to_file('data/water_quality_clean.shp')\n"
     ]
    }
   ],
   "source": [
    "wdf_g.to_file('data/water_quality_clean.shp')"
   ]
  },
  {
   "cell_type": "code",
   "execution_count": null,
   "id": "7d37baf3-e4fd-481a-8221-1c61b2c4bc75",
   "metadata": {},
   "outputs": [],
   "source": []
  }
 ],
 "metadata": {
  "kernelspec": {
   "display_name": "Python 3",
   "language": "python",
   "name": "python3"
  },
  "language_info": {
   "codemirror_mode": {
    "name": "ipython",
    "version": 3
   },
   "file_extension": ".py",
   "mimetype": "text/x-python",
   "name": "python",
   "nbconvert_exporter": "python",
   "pygments_lexer": "ipython3",
   "version": "3.9.5"
  }
 },
 "nbformat": 4,
 "nbformat_minor": 5
}
