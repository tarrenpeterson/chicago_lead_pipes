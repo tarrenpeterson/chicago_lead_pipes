{
 "cells": [
  {
   "cell_type": "code",
   "execution_count": 1,
   "id": "a4840b64-ac77-4a91-9c5c-b451bc809f5c",
   "metadata": {},
   "outputs": [],
   "source": [
    "import pandas as pd\n",
    "import geopandas as gpd\n",
    "import censusdata\n",
    "import numpy as np"
   ]
  },
  {
   "cell_type": "code",
   "execution_count": null,
   "id": "c75d181e-4f15-4643-bad7-f3ff68d16dbb",
   "metadata": {},
   "outputs": [],
   "source": [
    "# Downloading Census block boundaries for Chicago\n",
    "census_gdf = gpd.read_file(\"https://data.cityofchicago.org/resource/bt9m-d2mf.geojson?$limit=9999999\")\n",
    "census_gdf[\"GEOID\"] = census_gdf[\"geoid10\"].map(lambda x: str(x)[:12])\n",
    "census_group = census_gdf.dissolve(by='GEOID').reset_index()\n",
    "census_group.crs = \"EPSG:4326\"\n",
    "census_group['GEOID'] = census_group['GEOID'].astype(int)"
   ]
  },
  {
   "cell_type": "code",
   "execution_count": null,
   "id": "8bff2644-34e8-4066-a6ba-0c75d370d30e",
   "metadata": {},
   "outputs": [],
   "source": [
    "# Housing Assessment Data by Census Block Group\n",
    "# This dataset was previously merged with block group-level ACS data.\n",
    "housing = pd.read_csv('data/final_assessments_block_group.csv', sep='\\t', index_col=0)\n",
    "merged = census_group.merge(housing, on =\"GEOID\", how=\"inner\")\n",
    "merged.head(2)"
   ]
  },
  {
   "cell_type": "code",
   "execution_count": null,
   "id": "b19b6c83-52af-4e53-bd36-015d99d001a2",
   "metadata": {},
   "outputs": [],
   "source": [
    "# Water Quality Data\n",
    "wdf_g = gpd.read_file('data/water_quality_clean.shp')\n",
    "wdf_g.crs = \"EPSG:4326\"\n",
    "wdf_g.head(2)\n",
    "wdf_g.columns = ['date', 'address', '1min_draw', '3min_draw', '5min_draw', \n",
    "                 'location', 'lat', 'long', \n",
    "                 'avg_reading', 'max_reading', 't_high', 't_med', 'geometry']\n",
    "\n",
    "# Merging datasets\n",
    "water_acs = gpd.sjoin(wdf_g, merged, how='inner', op='within')"
   ]
  },
  {
   "cell_type": "code",
   "execution_count": null,
   "id": "bc3c9794-5f9a-4f7e-b4eb-6410aeb4c89f",
   "metadata": {},
   "outputs": [],
   "source": [
    "# Creating aggregate dataset\n",
    "avg_reading = water_acs.groupby('GEOID')['avg_reading'].mean().to_frame('avg_reading_all').reset_index()\n",
    "max_reading = water_acs.groupby('GEOID')['max_reading'].mean().to_frame('max_reading_all').reset_index()\n",
    "sample_cnt = water_acs.groupby('GEOID').size().to_frame('sample_cnt').reset_index()\n",
    "\n",
    "for_plot = census_group.merge(avg_reading, on=\"GEOID\", how=\"outer\")\n",
    "for_plot = for_plot.merge(max_reading, on=\"GEOID\", how=\"outer\")\n",
    "for_plot = for_plot.merge(sample_cnt, on=\"GEOID\", how=\"outer\")\n",
    "for_plot = for_plot.merge(housing, on=\"GEOID\", how=\"outer\")\n",
    "\n",
    "for_plot['sample_cnt'] = for_plot['sample_cnt'].fillna(0)\n",
    "for_plot['samp_density'] = for_plot['sample_cnt']/for_plot['tot_pop']\n",
    "for_plot['samp_density'] = for_plot['samp_density'].replace(np.infty, 0)\n",
    "for_plot['samp_density'] = for_plot['samp_density'].fillna(0)\n",
    "for_plot['threshold_high'] = np.where(for_plot['max_reading_all'] >= 15, 1, 0)\n",
    "for_plot['threshold_medium'] = np.where(for_plot['max_reading_all'] >= 5, 1, 0)"
   ]
  },
  {
   "cell_type": "code",
   "execution_count": null,
   "id": "97cf4c05-c3e5-4c20-a9e8-7f90cd3cbba5",
   "metadata": {},
   "outputs": [],
   "source": [
    "fig = for_plot.plot(column='sample_cnt',\n",
    "                        cmap = 'Greys',\n",
    "                        figsize=(11,7),   \n",
    "                        scheme='natural_breaks', k=4, \n",
    "                        legend = True,\n",
    "                        edgecolor='darkgrey',\n",
    "                        alpha=0.8)\n",
    "    \n",
    "fig.set_title('Fig 1. Sampling Density by Block Group', \n",
    "              fontdict= {'fontsize':12})\n",
    "fig.set_axis_off()\n",
    "fig.get_legend().set_bbox_to_anchor((0., 0., 0.2, 0.2))\n",
    "\n",
    "for legend_handle in fig.get_legend().legendHandles:  \n",
    "    legend_handle._legmarker.set_markeredgewidth(1)\n",
    "    legend_handle._legmarker.set_markeredgecolor('k')"
   ]
  },
  {
   "cell_type": "code",
   "execution_count": null,
   "id": "272062eb-a597-44c7-8eee-552d59244f5c",
   "metadata": {},
   "outputs": [],
   "source": [
    "fig = for_plot.plot(column='samp_density',\n",
    "                        cmap = 'Greys',\n",
    "                        figsize=(11,7),   \n",
    "                        scheme='natural_breaks', k=4, \n",
    "                        legend = True,\n",
    "                        edgecolor='darkgrey',\n",
    "                        alpha=0.8)\n",
    "    \n",
    "fig.set_title('Fig 1. Sampling Density by Block Group', \n",
    "              fontdict= {'fontsize':12})\n",
    "fig.set_axis_off()\n",
    "fig.get_legend().set_bbox_to_anchor((0., 0., 0.2, 0.2))\n",
    "\n",
    "for legend_handle in fig.get_legend().legendHandles:  \n",
    "    legend_handle._legmarker.set_markeredgewidth(1)\n",
    "    legend_handle._legmarker.set_markeredgecolor('k')"
   ]
  },
  {
   "cell_type": "code",
   "execution_count": null,
   "id": "098b69db-5918-44c1-9e5f-9bb74d159483",
   "metadata": {},
   "outputs": [],
   "source": [
    "fig = for_plot.plot(column='max_reading_all',\n",
    "                        cmap = 'BuPu',\n",
    "                        figsize=(11,7),   \n",
    "                        scheme='natural_breaks', k=4, \n",
    "                        legend = True,\n",
    "                        edgecolor='darkgrey',\n",
    "                        alpha=0.8)\n",
    "    \n",
    "fig.set_title('Fig 2. Mean Lead Sample Reading by \\n Census Block Group (ppb)', \n",
    "              fontdict= {'fontsize':12})\n",
    "fig.set_axis_off()\n",
    "fig.get_legend().set_bbox_to_anchor((0., 0., 0.2, 0.2))\n",
    "\n",
    "for legend_handle in fig.get_legend().legendHandles:  \n",
    "    legend_handle._legmarker.set_markeredgewidth(1)\n",
    "    legend_handle._legmarker.set_markeredgecolor('k')"
   ]
  },
  {
   "cell_type": "code",
   "execution_count": null,
   "id": "e9b8f13e-eee2-4474-9453-bcd22edd1b6b",
   "metadata": {},
   "outputs": [],
   "source": [
    "test = water_acs.groupby('GEOID')['max_reading'].apply(lambda x: (x>=15).sum()).to_frame('15cnt').reset_index()\n",
    "test1 = water_acs.groupby('GEOID')['max_reading'].apply(lambda x: (x>=5).sum()).to_frame('5cnt').reset_index()\n",
    "test2 = for_plot.merge(test, on=\"GEOID\", how=\"outer\")\n",
    "test2 = test2.merge(test1, on=\"GEOID\", how=\"outer\")\n",
    "\n",
    "fig = test2.plot(column='15cnt',\n",
    "                        cmap = 'BuPu',\n",
    "                        figsize=(11,7),   \n",
    "                        scheme='natural_breaks', k=4, \n",
    "                        legend = True,\n",
    "                        edgecolor='darkgrey',\n",
    "                        alpha=0.8)\n",
    "    \n",
    "fig.set_title('Fig X. Number of Houses Exceeding 15 ppb by \\n Census Block Group', \n",
    "              fontdict= {'fontsize':12})\n",
    "fig.set_axis_off()\n",
    "fig.get_legend().set_bbox_to_anchor((0., 0., 0.2, 0.2))\n",
    "\n",
    "for legend_handle in fig.get_legend().legendHandles:  \n",
    "    legend_handle._legmarker.set_markeredgewidth(1)\n",
    "    legend_handle._legmarker.set_markeredgecolor('k')"
   ]
  },
  {
   "cell_type": "code",
   "execution_count": null,
   "id": "ec893adc-c09d-41d1-bd99-239ac0bbbcbd",
   "metadata": {},
   "outputs": [],
   "source": [
    "fig = test2.plot(column='5cnt',\n",
    "                        cmap = 'BuPu',\n",
    "                        figsize=(11,7),   \n",
    "                        scheme='natural_breaks', k=4, \n",
    "                        legend = True,\n",
    "                        edgecolor='darkgrey',\n",
    "                        alpha=0.8)\n",
    "    \n",
    "fig.set_title('Fig X. Number of Houses Exceeding 5 ppb by \\n Census Block Group', \n",
    "              fontdict= {'fontsize':12})\n",
    "fig.set_axis_off()\n",
    "fig.get_legend().set_bbox_to_anchor((0., 0., 0.2, 0.2))\n",
    "\n",
    "for legend_handle in fig.get_legend().legendHandles:  \n",
    "    legend_handle._legmarker.set_markeredgewidth(1)\n",
    "    legend_handle._legmarker.set_markeredgecolor('k')"
   ]
  },
  {
   "cell_type": "code",
   "execution_count": null,
   "id": "41a4fd25-c182-4064-964b-000452f48ef9",
   "metadata": {},
   "outputs": [],
   "source": [
    "fig = for_plot.plot(column='perc_black',\n",
    "                        cmap = 'Blues',\n",
    "                        figsize=(11,7),   \n",
    "                        scheme='natural_breaks', k=4, \n",
    "                        legend = True,\n",
    "                        edgecolor='darkgrey',\n",
    "                        alpha=0.8)\n",
    "    \n",
    "fig.set_title('Fig 3. Total Population (%Black/African American) \\n by Census Block Group', \n",
    "              fontdict= {'fontsize':12})\n",
    "fig.set_axis_off()\n",
    "fig.get_legend().set_bbox_to_anchor((0., 0., 0.2, 0.2))\n",
    "\n",
    "for legend_handle in fig.get_legend().legendHandles:  \n",
    "    legend_handle._legmarker.set_markeredgewidth(1)\n",
    "    legend_handle._legmarker.set_markeredgecolor('k')"
   ]
  },
  {
   "cell_type": "code",
   "execution_count": null,
   "id": "aecded17-5e3a-4625-b283-0f82b9393f88",
   "metadata": {},
   "outputs": [],
   "source": [
    "fig = for_plot.plot(column='med_income',\n",
    "                        cmap = 'Greens',\n",
    "                        figsize=(11,7),   \n",
    "                        scheme='natural_breaks', k=4, \n",
    "                        legend = True,\n",
    "                        edgecolor='darkgrey',\n",
    "                        alpha=0.8)\n",
    "    \n",
    "fig.set_title('Fig 5. Median Income by Census Block Group', fontdict= {'fontsize':12})\n",
    "fig.set_axis_off()\n",
    "fig.get_legend().set_bbox_to_anchor((0., 0., 0.2, 0.2))\n",
    "\n",
    "for legend_handle in fig.get_legend().legendHandles:  \n",
    "    legend_handle._legmarker.set_markeredgewidth(1)\n",
    "    legend_handle._legmarker.set_markeredgecolor('k')"
   ]
  },
  {
   "cell_type": "code",
   "execution_count": null,
   "id": "35817fb0-f989-483f-a1b4-6cb86ac797a2",
   "metadata": {},
   "outputs": [],
   "source": [
    "# Descriptive Statistics\n",
    "import seaborn as sns\n",
    "import matplotlib.pyplot as plt\n",
    "\n",
    "print(\"The range for the water quality dataset is:\")\n",
    "print(\"Max value: {}\\nMin value: {}\".format(\n",
    "    max(wdf_g['max_reading']), min(wdf_g['max_reading'])))\n",
    "\n",
    "# Data is right-skewed\n",
    "sampl_distrib = sns.boxplot(x=\"max_reading_all\", data=for_plot)\n",
    "plt.title('Fig X. Lead Levels (ppb)', fontsize=13) \n",
    "plt.xlabel('Lead Level in Sample (ppb)', fontsize=11)\n",
    "plt.tight_layout()"
   ]
  },
  {
   "cell_type": "code",
   "execution_count": null,
   "id": "dd98133d-0086-437d-9884-74202577962d",
   "metadata": {},
   "outputs": [],
   "source": [
    " # Threshold Categorical Variable\n",
    "\n",
    "def categories(x): \n",
    "    if 0 < x < 5:\n",
    "        return 'low'\n",
    "    if 5 <= x < 15: \n",
    "        return 'medium'\n",
    "    elif x >= 15:\n",
    "        return 'high'\n",
    "    \n",
    "water_acs['lead_cat'] = water_acs['max_reading'].apply(categories)\n",
    "\n",
    "med_income = sns.catplot(x=\"lead_cat\", y=\"med_income\", kind='box', data=water_acs, \n",
    "                         order=[\"low\", \"medium\", \"high\"]) \n",
    "labels = med_income.set(xlabel='Lead Reaing Category', ylabel='Median Income',\n",
    "title='Median Income Distribution by Lead Reading Category')"
   ]
  },
  {
   "cell_type": "code",
   "execution_count": null,
   "id": "9f468441-66f0-4cad-998e-fa1e963532da",
   "metadata": {},
   "outputs": [],
   "source": [
    "perc_black = sns.catplot(x=\"lead_cat\", y=\"perc_black\", kind='box', data=water_acs, \n",
    "                         order=[\"low\", \"medium\", \"high\"]) \n",
    "labels = perc_black.set(xlabel='Lead Reading Category', \n",
    "                        ylabel='Population (% Black/African American)',\n",
    "                        title='Population (% Black) by Lead Reading Category')"
   ]
  },
  {
   "cell_type": "code",
   "execution_count": null,
   "id": "fda70c42-b7d2-47be-b0ea-8c8cc4c0c61c",
   "metadata": {},
   "outputs": [],
   "source": [
    "perc_nwhite = sns.catplot(x=\"lead_cat\", y=\"perc_non_w\", kind='box', data=water_acs, \n",
    "                         order=[\"low\", \"medium\", \"high\"]) \n",
    "labels = perc_nwhite.set(xlabel='Lead Reading Category', \n",
    "                        ylabel='Population (% Non-White)',\n",
    "                        title='Population (% Non-White) by Lead Reading Category')"
   ]
  },
  {
   "cell_type": "code",
   "execution_count": null,
   "id": "a62ddb78-cecd-4304-8c36-62dcc7b42096",
   "metadata": {},
   "outputs": [],
   "source": [
    "# sns.scatterplot(data=for_plot, x=\"med_income\", y=\"max_reading_all\", \n",
    "#                hue=\"threshold_high\", alpha=0.6)\n",
    "\n",
    "ax = sns.scatterplot(x=\"med_income\", y=\"max_reading_all\",\n",
    "                     data=for_plot[for_plot.threshold_high == 0], alpha=0.5)\n",
    "sns.scatterplot(x=\"med_income\", y=\"max_reading_all\", for_plot=for_plot[for_plot.threshold_high == 1.0], \n",
    "                alpha=1.0, ax=ax)"
   ]
  },
  {
   "cell_type": "code",
   "execution_count": null,
   "id": "b499a5f4-aa9f-40f5-9383-cbd1c41b4682",
   "metadata": {},
   "outputs": [],
   "source": [
    "final_df = for_plot.drop(['geometry', 'statefp10', 'name10', 'blockce10', 'tract_bloc',\n",
    "       'geoid10', 'tractce10', 'countyfp10', 'samp_density'], axis=1)\n",
    "final_df.to_csv('data/final_df.csv')"
   ]
  },
  {
   "cell_type": "code",
   "execution_count": null,
   "id": "8ff38edc-75cc-48df-a5a8-97c38c2d8326",
   "metadata": {},
   "outputs": [],
   "source": [
    "################################\n",
    "####### ARCHIVE -- TO DELETE ###"
   ]
  },
  {
   "cell_type": "code",
   "execution_count": null,
   "id": "1f20ed62-00ee-4c1a-a13e-caa4edabd781",
   "metadata": {},
   "outputs": [],
   "source": [
    "# Downloading Census block boundaries for Chicago\n",
    "census_gdf = gpd.read_file(\"https://data.cityofchicago.org/resource/bt9m-d2mf.geojson?$limit=9999999\")\n",
    "census_gdf[\"geo_12\"] = census_gdf[\"geoid10\"].map(lambda x: str(x)[:12])\n",
    "census_group = census_gdf.dissolve(by='geo_12').reset_index()\n",
    "census_group.crs = \"EPSG:4326\"\n",
    "\n",
    "# Pulling ACS data \n",
    "census_tables = {\n",
    "    'GEO_ID': 'GEO_ID', \n",
    "    'B02001_001E': 'Race Total', \n",
    "    'B02001_002E': 'White', \n",
    "    'B02001_003E': 'Black', \n",
    "    'B19013_001E': 'Median Income',\n",
    "    'B03002_002E': 'Not Hispanic'}\n",
    "\n",
    "acs_df = censusdata.download(\"acs5\", \n",
    "                              2018, \n",
    "                              censusdata.censusgeo([(\"state\", \"17\"), \n",
    "                                                    (\"county\", \"031\"),\n",
    "                                                    (\"tract\", \"*\"),\n",
    "                                                    (\"block group\", \"*\")]), \n",
    "                              list(census_tables.keys()))\n",
    "\n",
    "# Rename columns \n",
    "acs_df.rename(columns=census_tables, inplace=True)\n",
    "acs_df[\"geo_12\"] = acs_df[\"GEO_ID\"].map(lambda x: str(x)[-12:])\n",
    "merged = census_group.merge(acs_df, on =\"geo_12\", how=\"inner\")\n",
    "\n",
    "# Creating new attributes\n",
    "merged[\"p_white\"] = (merged[\"White\"]/merged[\"Race Total\"])*100\n",
    "merged[\"p_black\"] = (merged[\"Black\"]/merged[\"Race Total\"])*100\n",
    "merged[\"p_hispanic\"] = ((merged['Race Total']-merged['Not Hispanic'])/merged[\"Race Total\"])*100\n",
    "\n",
    "merged.rename(mapper={'Median Income':'med_income'}, axis='columns', inplace=True)\n",
    "merged[\"med_income\"].replace({-666666666.0: merged[\"med_income\"].median()}, inplace=True)"
   ]
  },
  {
   "cell_type": "code",
   "execution_count": null,
   "id": "2dcd456c-78a8-4eb8-9fdd-e0fb9d2f01c3",
   "metadata": {},
   "outputs": [],
   "source": []
  }
 ],
 "metadata": {
  "kernelspec": {
   "display_name": "Python 3",
   "language": "python",
   "name": "python3"
  },
  "language_info": {
   "codemirror_mode": {
    "name": "ipython",
    "version": 3
   },
   "file_extension": ".py",
   "mimetype": "text/x-python",
   "name": "python",
   "nbconvert_exporter": "python",
   "pygments_lexer": "ipython3",
   "version": "3.9.5"
  }
 },
 "nbformat": 4,
 "nbformat_minor": 5
}
